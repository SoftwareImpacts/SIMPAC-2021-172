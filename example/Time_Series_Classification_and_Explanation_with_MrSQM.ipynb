{
 "cells": [
  {
   "cell_type": "code",
   "execution_count": 1,
   "id": "94cac4e6",
   "metadata": {},
   "outputs": [],
   "source": [
    "import mrsqm\n",
    "import numpy as np\n",
    "import pandas as pd\n",
    "from sklearn import metrics\n",
    "from scipy.interpolate import interp1d\n",
    "import matplotlib.pyplot as plt"
   ]
  },
  {
   "cell_type": "code",
   "execution_count": 2,
   "id": "e7ab7639",
   "metadata": {},
   "outputs": [],
   "source": [
    "# code to read arff data\n",
    "# Source: https://github.com/alan-turing-institute/sktime/blob/main/sktime/utils/data_io.py\n",
    "\n",
    "def load_from_arff_to_dataframe(\n",
    "\n",
    "    full_file_path_and_name,\n",
    "    has_class_labels=True,\n",
    "    return_separate_X_and_y=True,\n",
    "    replace_missing_vals_with=\"NaN\",\n",
    "):\n",
    "    \"\"\"Load data from a .ts file into a Pandas DataFrame.\n",
    "    Parameters\n",
    "    ----------\n",
    "    full_file_path_and_name: str\n",
    "        The full pathname of the .ts file to read.\n",
    "    has_class_labels: bool\n",
    "        true then line contains separated strings and class value contains\n",
    "        list of separated strings, check for 'return_separate_X_and_y'\n",
    "        false otherwise.\n",
    "    return_separate_X_and_y: bool\n",
    "        true then X and Y values should be returned as separate Data Frames (\n",
    "        X) and a numpy array (y), false otherwise.\n",
    "        This is only relevant for data.\n",
    "    replace_missing_vals_with: str\n",
    "       The value that missing values in the text file should be replaced\n",
    "       with prior to parsing.\n",
    "    Returns\n",
    "    -------\n",
    "    DataFrame, ndarray\n",
    "        If return_separate_X_and_y then a tuple containing a DataFrame and a\n",
    "        numpy array containing the relevant time-series and corresponding\n",
    "        class values.\n",
    "    DataFrame\n",
    "        If not return_separate_X_and_y then a single DataFrame containing\n",
    "        all time-series and (if relevant) a column \"class_vals\" the\n",
    "        associated class values.\n",
    "    \"\"\"\n",
    "    \n",
    "    instance_list = []\n",
    "    class_val_list = []\n",
    "\n",
    "    data_started = False\n",
    "    is_multi_variate = False\n",
    "    is_first_case = True\n",
    "\n",
    "    # Parse the file\n",
    "    # print(full_file_path_and_name)\n",
    "    with open(full_file_path_and_name, \"r\", encoding=\"utf-8\") as f:\n",
    "        for line in f:\n",
    "\n",
    "            if line.strip():\n",
    "                if (\n",
    "                    is_multi_variate is False\n",
    "                    and \"@attribute\" in line.lower()\n",
    "                    and \"relational\" in line.lower()\n",
    "                ):\n",
    "                    is_multi_variate = True\n",
    "\n",
    "                if \"@data\" in line.lower():\n",
    "                    data_started = True\n",
    "                    continue\n",
    "\n",
    "                # if the 'data tag has been found, the header information\n",
    "                # has been cleared and now data can be loaded\n",
    "                if data_started:\n",
    "                    line = line.replace(\"?\", replace_missing_vals_with)\n",
    "\n",
    "                    if is_multi_variate:\n",
    "                        if has_class_labels:\n",
    "                            line, class_val = line.split(\"',\")\n",
    "                            class_val_list.append(class_val.strip())\n",
    "                        dimensions = line.split(\"\\\\n\")\n",
    "                        dimensions[0] = dimensions[0].replace(\"'\", \"\")\n",
    "\n",
    "                        if is_first_case:\n",
    "                            for _d in range(len(dimensions)):\n",
    "                                instance_list.append([])\n",
    "                            is_first_case = False\n",
    "\n",
    "                        for dim in range(len(dimensions)):\n",
    "                            instance_list[dim].append(\n",
    "                                pd.Series(\n",
    "                                    [float(i) for i in dimensions[dim].split(\",\")]\n",
    "                                )\n",
    "                            )\n",
    "\n",
    "                    else:\n",
    "                        if is_first_case:\n",
    "                            instance_list.append([])\n",
    "                            is_first_case = False\n",
    "\n",
    "                        line_parts = line.split(\",\")\n",
    "                        if has_class_labels:\n",
    "                            instance_list[0].append(\n",
    "                                pd.Series(\n",
    "                                    [\n",
    "                                        float(i)\n",
    "                                        for i in line_parts[: len(line_parts) - 1]\n",
    "                                    ]\n",
    "                                )\n",
    "                            )\n",
    "                            class_val_list.append(line_parts[-1].strip())\n",
    "                        else:\n",
    "                            instance_list[0].append(\n",
    "                                pd.Series(\n",
    "                                    [float(i) for i in line_parts[: len(line_parts)]]\n",
    "                                )\n",
    "                            )\n",
    "\n",
    "    x_data = pd.DataFrame(dtype=np.float32)\n",
    "    for dim in range(len(instance_list)):\n",
    "        x_data[\"dim_\" + str(dim)] = instance_list[dim]\n",
    "\n",
    "    if has_class_labels:\n",
    "        if return_separate_X_and_y:\n",
    "            return x_data, np.asarray(class_val_list)\n",
    "        else:\n",
    "            x_data[\"class_vals\"] = pd.Series(class_val_list)\n",
    "\n",
    "    return x_data\n",
    "\n",
    "# code to visualize saliency map\n",
    "# Source: https://github.com/mlgig/explanation4tsc/blob/master/3.%20Compare%20Metrics%20and%20Draw%20Figures.ipynb\n",
    "def plot_time_series_with_color(ts, weight, save = False):   \n",
    "    cas = weight\n",
    "    \n",
    "    def transform(X):\n",
    "        ma,mi = np.max(X), np.min(X)\n",
    "        X = (X - mi)/(ma-mi)\n",
    "        return X*100\n",
    "    cas = transform(cas)\n",
    "\n",
    "    max_length1, max_length2 = len(weight),10000 #\n",
    "    x1 = np.linspace(0,max_length1,num = max_length1)\n",
    "    x2 = np.linspace(0,max_length1,num = max_length2)\n",
    "    y1 = ts\n",
    "    f = interp1d(x1, y1)\n",
    "\n",
    "    fcas = interp1d(x1, cas)\n",
    "    cas = fcas(x2)\n",
    "\n",
    "    plt.figure(figsize = (5,3.5))\n",
    "    \n",
    "    plt.scatter(x2,f(x2), c = cas, cmap = 'jet', marker='.', s= 1,vmin=0,vmax = 100)    \n",
    "    if save: plt.savefig('imgout/SM_%s_%s_Class%d_idx%d.png' %(dataset, explanation_method, label[i],i))\n"
   ]
  },
  {
   "cell_type": "markdown",
   "id": "2b33e581",
   "metadata": {},
   "source": [
    "## Load dataset"
   ]
  },
  {
   "cell_type": "code",
   "execution_count": 3,
   "id": "dc4413fe",
   "metadata": {},
   "outputs": [],
   "source": [
    "X_train,y_train = load_from_arff_to_dataframe(\"data/Coffee/Coffee_TRAIN.arff\")\n",
    "X_test,y_test = load_from_arff_to_dataframe(\"data/Coffee/Coffee_TEST.arff\")"
   ]
  },
  {
   "cell_type": "markdown",
   "id": "263355c8",
   "metadata": {},
   "source": [
    "## Train with MrSQMClassifier"
   ]
  },
  {
   "cell_type": "code",
   "execution_count": 25,
   "id": "bf30d3c2",
   "metadata": {},
   "outputs": [],
   "source": [
    "clf = mrsqm.MrSQMClassifier().fit(X_train,y_train)"
   ]
  },
  {
   "cell_type": "markdown",
   "id": "ad0c08a1",
   "metadata": {},
   "source": [
    "## Test the model"
   ]
  },
  {
   "cell_type": "code",
   "execution_count": 26,
   "id": "4ad7b615",
   "metadata": {},
   "outputs": [
    {
     "name": "stdout",
     "output_type": "stream",
     "text": [
      "0.9642857142857143\n"
     ]
    }
   ],
   "source": [
    "y_pred = clf.predict(X_test)\n",
    "print(metrics.accuracy_score(y_test, y_pred))"
   ]
  },
  {
   "cell_type": "markdown",
   "id": "9142c026",
   "metadata": {},
   "source": [
    "## Saliency map visualisation"
   ]
  },
  {
   "cell_type": "code",
   "execution_count": 29,
   "id": "56c9ddbe",
   "metadata": {},
   "outputs": [
    {
     "data": {
      "image/png": "[encoded data removed]",
      "text/plain": [
       "<Figure size 360x252 with 1 Axes>"
      ]
     },
     "metadata": {
      "needs_background": "light"
     },
     "output_type": "display_data"
    }
   ],
   "source": [
    "ts = X_train.iloc[24,0]\n",
    "weight = clf.get_saliency_map(ts)\n",
    "plot_time_series_with_color(ts, weight[1])"
   ]
  },
  {
   "cell_type": "markdown",
   "id": "372b71fe",
   "metadata": {},
   "source": [
    "## Control SAX and SFA transformation"
   ]
  },
  {
   "cell_type": "code",
   "execution_count": 32,
   "id": "8774770f",
   "metadata": {},
   "outputs": [
    {
     "name": "stdout",
     "output_type": "stream",
     "text": [
      "0.9642857142857143\n"
     ]
    }
   ],
   "source": [
    "# use sfa twice more times than sax\n",
    "clf = mrsqm.MrSQMClassifier(nsax=2, nsfa=4).fit(X_train,y_train)\n",
    "y_pred = clf.predict(X_test)\n",
    "print(metrics.accuracy_score(y_test, y_pred))"
   ]
  }
 ],
 "metadata": {
  "kernelspec": {
   "display_name": "Python 3 (ipykernel)",
   "language": "python",
   "name": "python3"
  },
  "language_info": {
   "codemirror_mode": {
    "name": "ipython",
    "version": 3
   },
   "file_extension": ".py",
   "mimetype": "text/x-python",
   "name": "python",
   "nbconvert_exporter": "python",
   "pygments_lexer": "ipython3",
   "version": "3.7.11"
  }
 },
 "nbformat": 4,
 "nbformat_minor": 5
}
